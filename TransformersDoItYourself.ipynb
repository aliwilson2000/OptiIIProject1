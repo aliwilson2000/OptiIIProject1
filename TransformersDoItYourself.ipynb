{
  "cells": [
    {
      "cell_type": "markdown",
      "metadata": {
        "id": "view-in-github",
        "colab_type": "text"
      },
      "source": [
        "<a href=\"https://colab.research.google.com/github/aliwilson2000/OptiIIProject1/blob/main/TransformersDoItYourself.ipynb\" target=\"_parent\"><img src=\"https://colab.research.google.com/assets/colab-badge.svg\" alt=\"Open In Colab\"/></a>"
      ]
    },
    {
      "cell_type": "markdown",
      "metadata": {
        "id": "XgZ8l1bQo0C3"
      },
      "source": [
        "# Transformer Code Template"
      ],
      "id": "XgZ8l1bQo0C3"
    },
    {
      "cell_type": "markdown",
      "source": [
        "### Step 7: Transformer Model Set Up: Restarting with Importing Packages"
      ],
      "metadata": {
        "id": "_g73jrey_Tqr"
      },
      "id": "_g73jrey_Tqr"
    },
    {
      "cell_type": "code",
      "execution_count": null,
      "metadata": {
        "id": "64eaf0cf"
      },
      "outputs": [],
      "source": [
        "import numpy as np\n",
        "import tensorflow as tf"
      ],
      "id": "64eaf0cf"
    },
    {
      "cell_type": "code",
      "execution_count": null,
      "metadata": {
        "colab": {
          "base_uri": "https://localhost:8080/"
        },
        "id": "x4y4M85AL8vY",
        "outputId": "cfe84ad2-a9c5-4bc0-a089-39a16b039e3c"
      },
      "outputs": [
        {
          "name": "stdout",
          "output_type": "stream",
          "text": [
            "Mounted at /content/drive\n"
          ]
        }
      ],
      "source": [
        "from google.colab import drive # mounting drive for easy read-write\n",
        "drive.mount('/content/drive')"
      ],
      "id": "x4y4M85AL8vY"
    },
    {
      "cell_type": "markdown",
      "source": [
        "### Step 8: Define the Class Token Layer"
      ],
      "metadata": {
        "id": "0YpEpP4d_W1j"
      },
      "id": "0YpEpP4d_W1j"
    },
    {
      "cell_type": "markdown",
      "metadata": {
        "id": "ntfHnj9cphbA"
      },
      "source": [
        "\n",
        "The ClassToken layer in TensorFlow/Keras is crucial in the Vision Transformer (ViT) model for image classification. It's a custom layer that inherits from tf.keras.layers.Layer. Here's what it does:\n",
        "\n",
        "Initialization: It initializes the layer, including the weights (self.w) for\n",
        "the class token vector, which are trainable.\n",
        "\n",
        "Building the Layer: The build method initializes the weights using a random normal distribution.\n",
        "\n",
        "Computing the Class Token: The call method computes the class token vector by broadcasting the initialized weights and concatenating it to the input sequence.\n",
        "\n",
        "Purpose: This layer adds a learnable class token vector to the beginning of the input sequence, representing the entire input for making global predictions in the ViT model."
      ],
      "id": "ntfHnj9cphbA"
    },
    {
      "cell_type": "code",
      "execution_count": null,
      "metadata": {
        "id": "43f4253e"
      },
      "outputs": [],
      "source": [
        "# this is written as a tensorflow \"layer\".  it's just a vector the same size as the\n",
        "# output of the previous layer. the vector is initialized randomly, but we'll use\n",
        "# gradient descent to update the values in the vector\n",
        "#\n",
        "# it's purpose is to be appended to the beginning of the sequence of vectors fed into\n",
        "# the transformer.  then after the transformer runs on the whole data, we just grab\n",
        "# the resulting zero-th vector...the class token...and use that as the portfolio weights\n",
        "class ClassToken(tf.keras.layers.Layer):\n",
        "    def __init__(self):\n",
        "        super().__init__()\n",
        "\n",
        "    def build(self, input_shape):\n",
        "        w_init = tf.random_normal_initializer()\n",
        "        self.w = tf.Variable(\n",
        "            initial_value = w_init(shape=(1, 1, input_shape[-1]), dtype=tf.float32),\n",
        "            trainable = True\n",
        "        )\n",
        "\n",
        "    def call(self, inputs):\n",
        "        batch_size = tf.shape(inputs)[0]\n",
        "        hidden_dim = self.w.shape[-1]\n",
        "\n",
        "        cls = tf.broadcast_to(self.w, [batch_size, 1, hidden_dim])\n",
        "        cls = tf.cast(cls, dtype=inputs.dtype)\n",
        "        return cls"
      ],
      "id": "43f4253e"
    },
    {
      "cell_type": "markdown",
      "source": [
        "### Step 9: Build the Vision Transformer Define Function"
      ],
      "metadata": {
        "id": "3zkmFzedAHtt"
      },
      "id": "3zkmFzedAHtt"
    },
    {
      "cell_type": "code",
      "execution_count": null,
      "metadata": {
        "id": "56d0c131"
      },
      "outputs": [],
      "source": [
        "def build_ViT(n,m,block_size,hidden_dim,num_layers,num_heads,key_dim,mlp_dim,dropout_rate,num_classes):\n",
        "    # n is number of rows of blocks\n",
        "    # m is number of cols of blocks\n",
        "    # block_size is number of pixels (with rgb) in each block\n",
        "\n",
        "    inp = tf.keras.layers.Input(shape=(n*m,block_size))\n",
        "    inp2 = tf.keras.layers.Input(shape=(n*m))\n",
        "    mid = tf.keras.layers.Dense(hidden_dim)(inp) # transform to vectors with different dimension\n",
        "    # the positional embeddings\n",
        "#     positions = tf.range(start=0, limit=n*m, delta=1)\n",
        "    emb = tf.keras.layers.Embedding(input_dim=n*m, output_dim=hidden_dim)(inp2) # learned positional embedding for each of the n*m possible possitions\n",
        "    mid = mid + emb # for some reason, tf.keras.layers.Add causes an error, but + doesn't?\n",
        "    # create and append class token to beginning of all input vectors\n",
        "    token = ClassToken()(mid) # append class token to beginning of sequence\n",
        "    mid = tf.keras.layers.Concatenate(axis=1)([token, mid])\n",
        "\n",
        "    for l in range(num_layers): # how many Transformer Head layers are there?\n",
        "        ln  = tf.keras.layers.LayerNormalization()(mid) # normalize\n",
        "        mha = tf.keras.layers.MultiHeadAttention(num_heads=num_heads,key_dim=key_dim,value_dim=key_dim)(ln,ln,ln) # self attention!\n",
        "        add = tf.keras.layers.Add()([mid,mha]) # add and norm\n",
        "        ln  = tf.keras.layers.LayerNormalization()(add)\n",
        "        den = tf.keras.layers.Dense(mlp_dim,activation='gelu')(ln) # maybe should be relu...who knows...\n",
        "        den = tf.keras.layers.Dropout(dropout_rate)(den) # regularization\n",
        "        den = tf.keras.layers.Dense(hidden_dim)(den) # back to the right dimensional space\n",
        "        den = tf.keras.layers.Dropout(dropout_rate)(den)\n",
        "        mid = tf.keras.layers.Add()([den,add]) # add and norm again\n",
        "    ln = tf.keras.layers.LayerNormalization()(mid)\n",
        "    fl = ln[:,0,:] # just grab the class token for each image in batch\n",
        "    clas = tf.keras.layers.Dense(num_classes,activation='softmax')(fl) # probability that the image is in each category\n",
        "    mod = tf.keras.models.Model([inp,inp2],clas)\n",
        "    mod.compile(optimizer='adam',loss='sparse_categorical_crossentropy',metrics=['accuracy'])\n",
        "    return mod"
      ],
      "id": "56d0c131"
    },
    {
      "cell_type": "markdown",
      "metadata": {
        "id": "AF6Ie2geqjLK"
      },
      "source": [
        "## Step 10: Initialize Parameters"
      ],
      "id": "AF6Ie2geqjLK"
    },
    {
      "cell_type": "code",
      "execution_count": null,
      "metadata": {
        "colab": {
          "base_uri": "https://localhost:8080/"
        },
        "id": "19ce4b9d",
        "outputId": "e350c74a-92b7-4735-dd5e-07073ab9be22"
      },
      "outputs": [
        {
          "name": "stdout",
          "output_type": "stream",
          "text": [
            "Model: \"model\"\n",
            "__________________________________________________________________________________________________\n",
            " Layer (type)                Output Shape                 Param #   Connected to                  \n",
            "==================================================================================================\n",
            " input_1 (InputLayer)        [(None, 16, 49)]             0         []                            \n",
            "                                                                                                  \n",
            " input_2 (InputLayer)        [(None, 16)]                 0         []                            \n",
            "                                                                                                  \n",
            " dense (Dense)               (None, 16, 128)              6400      ['input_1[0][0]']             \n",
            "                                                                                                  \n",
            " embedding (Embedding)       (None, 16, 128)              2048      ['input_2[0][0]']             \n",
            "                                                                                                  \n",
            " tf.__operators__.add_1 (TF  (None, 16, 128)              0         ['dense[0][0]',               \n",
            " OpLambda)                                                           'embedding[0][0]']           \n",
            "                                                                                                  \n",
            " class_token_1 (ClassToken)  (None, 1, 128)               128       ['tf.__operators__.add_1[0][0]\n",
            "                                                                    ']                            \n",
            "                                                                                                  \n",
            " concatenate (Concatenate)   (None, 17, 128)              0         ['class_token_1[0][0]',       \n",
            "                                                                     'tf.__operators__.add_1[0][0]\n",
            "                                                                    ']                            \n",
            "                                                                                                  \n",
            " layer_normalization (Layer  (None, 17, 128)              256       ['concatenate[0][0]']         \n",
            " Normalization)                                                                                   \n",
            "                                                                                                  \n",
            " multi_head_attention (Mult  (None, 17, 128)              66048     ['layer_normalization[0][0]', \n",
            " iHeadAttention)                                                     'layer_normalization[0][0]', \n",
            "                                                                     'layer_normalization[0][0]'] \n",
            "                                                                                                  \n",
            " add (Add)                   (None, 17, 128)              0         ['concatenate[0][0]',         \n",
            "                                                                     'multi_head_attention[0][0]']\n",
            "                                                                                                  \n",
            " layer_normalization_1 (Lay  (None, 17, 128)              256       ['add[0][0]']                 \n",
            " erNormalization)                                                                                 \n",
            "                                                                                                  \n",
            " dense_1 (Dense)             (None, 17, 128)              16512     ['layer_normalization_1[0][0]'\n",
            "                                                                    ]                             \n",
            "                                                                                                  \n",
            " dropout_16 (Dropout)        (None, 17, 128)              0         ['dense_1[0][0]']             \n",
            "                                                                                                  \n",
            " dense_2 (Dense)             (None, 17, 128)              16512     ['dropout_16[0][0]']          \n",
            "                                                                                                  \n",
            " dropout_17 (Dropout)        (None, 17, 128)              0         ['dense_2[0][0]']             \n",
            "                                                                                                  \n",
            " add_1 (Add)                 (None, 17, 128)              0         ['dropout_17[0][0]',          \n",
            "                                                                     'add[0][0]']                 \n",
            "                                                                                                  \n",
            " layer_normalization_2 (Lay  (None, 17, 128)              256       ['add_1[0][0]']               \n",
            " erNormalization)                                                                                 \n",
            "                                                                                                  \n",
            " multi_head_attention_1 (Mu  (None, 17, 128)              66048     ['layer_normalization_2[0][0]'\n",
            " ltiHeadAttention)                                                  , 'layer_normalization_2[0][0]\n",
            "                                                                    ',                            \n",
            "                                                                     'layer_normalization_2[0][0]'\n",
            "                                                                    ]                             \n",
            "                                                                                                  \n",
            " add_2 (Add)                 (None, 17, 128)              0         ['add_1[0][0]',               \n",
            "                                                                     'multi_head_attention_1[0][0]\n",
            "                                                                    ']                            \n",
            "                                                                                                  \n",
            " layer_normalization_3 (Lay  (None, 17, 128)              256       ['add_2[0][0]']               \n",
            " erNormalization)                                                                                 \n",
            "                                                                                                  \n",
            " dense_3 (Dense)             (None, 17, 128)              16512     ['layer_normalization_3[0][0]'\n",
            "                                                                    ]                             \n",
            "                                                                                                  \n",
            " dropout_18 (Dropout)        (None, 17, 128)              0         ['dense_3[0][0]']             \n",
            "                                                                                                  \n",
            " dense_4 (Dense)             (None, 17, 128)              16512     ['dropout_18[0][0]']          \n",
            "                                                                                                  \n",
            " dropout_19 (Dropout)        (None, 17, 128)              0         ['dense_4[0][0]']             \n",
            "                                                                                                  \n",
            " add_3 (Add)                 (None, 17, 128)              0         ['dropout_19[0][0]',          \n",
            "                                                                     'add_2[0][0]']               \n",
            "                                                                                                  \n",
            " layer_normalization_4 (Lay  (None, 17, 128)              256       ['add_3[0][0]']               \n",
            " erNormalization)                                                                                 \n",
            "                                                                                                  \n",
            " multi_head_attention_2 (Mu  (None, 17, 128)              66048     ['layer_normalization_4[0][0]'\n",
            " ltiHeadAttention)                                                  , 'layer_normalization_4[0][0]\n",
            "                                                                    ',                            \n",
            "                                                                     'layer_normalization_4[0][0]'\n",
            "                                                                    ]                             \n",
            "                                                                                                  \n",
            " add_4 (Add)                 (None, 17, 128)              0         ['add_3[0][0]',               \n",
            "                                                                     'multi_head_attention_2[0][0]\n",
            "                                                                    ']                            \n",
            "                                                                                                  \n",
            " layer_normalization_5 (Lay  (None, 17, 128)              256       ['add_4[0][0]']               \n",
            " erNormalization)                                                                                 \n",
            "                                                                                                  \n",
            " dense_5 (Dense)             (None, 17, 128)              16512     ['layer_normalization_5[0][0]'\n",
            "                                                                    ]                             \n",
            "                                                                                                  \n",
            " dropout_20 (Dropout)        (None, 17, 128)              0         ['dense_5[0][0]']             \n",
            "                                                                                                  \n",
            " dense_6 (Dense)             (None, 17, 128)              16512     ['dropout_20[0][0]']          \n",
            "                                                                                                  \n",
            " dropout_21 (Dropout)        (None, 17, 128)              0         ['dense_6[0][0]']             \n",
            "                                                                                                  \n",
            " add_5 (Add)                 (None, 17, 128)              0         ['dropout_21[0][0]',          \n",
            "                                                                     'add_4[0][0]']               \n",
            "                                                                                                  \n",
            " layer_normalization_6 (Lay  (None, 17, 128)              256       ['add_5[0][0]']               \n",
            " erNormalization)                                                                                 \n",
            "                                                                                                  \n",
            " multi_head_attention_3 (Mu  (None, 17, 128)              66048     ['layer_normalization_6[0][0]'\n",
            " ltiHeadAttention)                                                  , 'layer_normalization_6[0][0]\n",
            "                                                                    ',                            \n",
            "                                                                     'layer_normalization_6[0][0]'\n",
            "                                                                    ]                             \n",
            "                                                                                                  \n",
            " add_6 (Add)                 (None, 17, 128)              0         ['add_5[0][0]',               \n",
            "                                                                     'multi_head_attention_3[0][0]\n",
            "                                                                    ']                            \n",
            "                                                                                                  \n",
            " layer_normalization_7 (Lay  (None, 17, 128)              256       ['add_6[0][0]']               \n",
            " erNormalization)                                                                                 \n",
            "                                                                                                  \n",
            " dense_7 (Dense)             (None, 17, 128)              16512     ['layer_normalization_7[0][0]'\n",
            "                                                                    ]                             \n",
            "                                                                                                  \n",
            " dropout_22 (Dropout)        (None, 17, 128)              0         ['dense_7[0][0]']             \n",
            "                                                                                                  \n",
            " dense_8 (Dense)             (None, 17, 128)              16512     ['dropout_22[0][0]']          \n",
            "                                                                                                  \n",
            " dropout_23 (Dropout)        (None, 17, 128)              0         ['dense_8[0][0]']             \n",
            "                                                                                                  \n",
            " add_7 (Add)                 (None, 17, 128)              0         ['dropout_23[0][0]',          \n",
            "                                                                     'add_6[0][0]']               \n",
            "                                                                                                  \n",
            " layer_normalization_8 (Lay  (None, 17, 128)              256       ['add_7[0][0]']               \n",
            " erNormalization)                                                                                 \n",
            "                                                                                                  \n",
            " multi_head_attention_4 (Mu  (None, 17, 128)              66048     ['layer_normalization_8[0][0]'\n",
            " ltiHeadAttention)                                                  , 'layer_normalization_8[0][0]\n",
            "                                                                    ',                            \n",
            "                                                                     'layer_normalization_8[0][0]'\n",
            "                                                                    ]                             \n",
            "                                                                                                  \n",
            " add_8 (Add)                 (None, 17, 128)              0         ['add_7[0][0]',               \n",
            "                                                                     'multi_head_attention_4[0][0]\n",
            "                                                                    ']                            \n",
            "                                                                                                  \n",
            " layer_normalization_9 (Lay  (None, 17, 128)              256       ['add_8[0][0]']               \n",
            " erNormalization)                                                                                 \n",
            "                                                                                                  \n",
            " dense_9 (Dense)             (None, 17, 128)              16512     ['layer_normalization_9[0][0]'\n",
            "                                                                    ]                             \n",
            "                                                                                                  \n",
            " dropout_24 (Dropout)        (None, 17, 128)              0         ['dense_9[0][0]']             \n",
            "                                                                                                  \n",
            " dense_10 (Dense)            (None, 17, 128)              16512     ['dropout_24[0][0]']          \n",
            "                                                                                                  \n",
            " dropout_25 (Dropout)        (None, 17, 128)              0         ['dense_10[0][0]']            \n",
            "                                                                                                  \n",
            " add_9 (Add)                 (None, 17, 128)              0         ['dropout_25[0][0]',          \n",
            "                                                                     'add_8[0][0]']               \n",
            "                                                                                                  \n",
            " layer_normalization_10 (La  (None, 17, 128)              256       ['add_9[0][0]']               \n",
            " yerNormalization)                                                                                \n",
            "                                                                                                  \n",
            " multi_head_attention_5 (Mu  (None, 17, 128)              66048     ['layer_normalization_10[0][0]\n",
            " ltiHeadAttention)                                                  ',                            \n",
            "                                                                     'layer_normalization_10[0][0]\n",
            "                                                                    ',                            \n",
            "                                                                     'layer_normalization_10[0][0]\n",
            "                                                                    ']                            \n",
            "                                                                                                  \n",
            " add_10 (Add)                (None, 17, 128)              0         ['add_9[0][0]',               \n",
            "                                                                     'multi_head_attention_5[0][0]\n",
            "                                                                    ']                            \n",
            "                                                                                                  \n",
            " layer_normalization_11 (La  (None, 17, 128)              256       ['add_10[0][0]']              \n",
            " yerNormalization)                                                                                \n",
            "                                                                                                  \n",
            " dense_11 (Dense)            (None, 17, 128)              16512     ['layer_normalization_11[0][0]\n",
            "                                                                    ']                            \n",
            "                                                                                                  \n",
            " dropout_26 (Dropout)        (None, 17, 128)              0         ['dense_11[0][0]']            \n",
            "                                                                                                  \n",
            " dense_12 (Dense)            (None, 17, 128)              16512     ['dropout_26[0][0]']          \n",
            "                                                                                                  \n",
            " dropout_27 (Dropout)        (None, 17, 128)              0         ['dense_12[0][0]']            \n",
            "                                                                                                  \n",
            " add_11 (Add)                (None, 17, 128)              0         ['dropout_27[0][0]',          \n",
            "                                                                     'add_10[0][0]']              \n",
            "                                                                                                  \n",
            " layer_normalization_12 (La  (None, 17, 128)              256       ['add_11[0][0]']              \n",
            " yerNormalization)                                                                                \n",
            "                                                                                                  \n",
            " multi_head_attention_6 (Mu  (None, 17, 128)              66048     ['layer_normalization_12[0][0]\n",
            " ltiHeadAttention)                                                  ',                            \n",
            "                                                                     'layer_normalization_12[0][0]\n",
            "                                                                    ',                            \n",
            "                                                                     'layer_normalization_12[0][0]\n",
            "                                                                    ']                            \n",
            "                                                                                                  \n",
            " add_12 (Add)                (None, 17, 128)              0         ['add_11[0][0]',              \n",
            "                                                                     'multi_head_attention_6[0][0]\n",
            "                                                                    ']                            \n",
            "                                                                                                  \n",
            " layer_normalization_13 (La  (None, 17, 128)              256       ['add_12[0][0]']              \n",
            " yerNormalization)                                                                                \n",
            "                                                                                                  \n",
            " dense_13 (Dense)            (None, 17, 128)              16512     ['layer_normalization_13[0][0]\n",
            "                                                                    ']                            \n",
            "                                                                                                  \n",
            " dropout_28 (Dropout)        (None, 17, 128)              0         ['dense_13[0][0]']            \n",
            "                                                                                                  \n",
            " dense_14 (Dense)            (None, 17, 128)              16512     ['dropout_28[0][0]']          \n",
            "                                                                                                  \n",
            " dropout_29 (Dropout)        (None, 17, 128)              0         ['dense_14[0][0]']            \n",
            "                                                                                                  \n",
            " add_13 (Add)                (None, 17, 128)              0         ['dropout_29[0][0]',          \n",
            "                                                                     'add_12[0][0]']              \n",
            "                                                                                                  \n",
            " layer_normalization_14 (La  (None, 17, 128)              256       ['add_13[0][0]']              \n",
            " yerNormalization)                                                                                \n",
            "                                                                                                  \n",
            " multi_head_attention_7 (Mu  (None, 17, 128)              66048     ['layer_normalization_14[0][0]\n",
            " ltiHeadAttention)                                                  ',                            \n",
            "                                                                     'layer_normalization_14[0][0]\n",
            "                                                                    ',                            \n",
            "                                                                     'layer_normalization_14[0][0]\n",
            "                                                                    ']                            \n",
            "                                                                                                  \n",
            " add_14 (Add)                (None, 17, 128)              0         ['add_13[0][0]',              \n",
            "                                                                     'multi_head_attention_7[0][0]\n",
            "                                                                    ']                            \n",
            "                                                                                                  \n",
            " layer_normalization_15 (La  (None, 17, 128)              256       ['add_14[0][0]']              \n",
            " yerNormalization)                                                                                \n",
            "                                                                                                  \n",
            " dense_15 (Dense)            (None, 17, 128)              16512     ['layer_normalization_15[0][0]\n",
            "                                                                    ']                            \n",
            "                                                                                                  \n",
            " dropout_30 (Dropout)        (None, 17, 128)              0         ['dense_15[0][0]']            \n",
            "                                                                                                  \n",
            " dense_16 (Dense)            (None, 17, 128)              16512     ['dropout_30[0][0]']          \n",
            "                                                                                                  \n",
            " dropout_31 (Dropout)        (None, 17, 128)              0         ['dense_16[0][0]']            \n",
            "                                                                                                  \n",
            " add_15 (Add)                (None, 17, 128)              0         ['dropout_31[0][0]',          \n",
            "                                                                     'add_14[0][0]']              \n",
            "                                                                                                  \n",
            " layer_normalization_16 (La  (None, 17, 128)              256       ['add_15[0][0]']              \n",
            " yerNormalization)                                                                                \n",
            "                                                                                                  \n",
            " multi_head_attention_8 (Mu  (None, 17, 128)              66048     ['layer_normalization_16[0][0]\n",
            " ltiHeadAttention)                                                  ',                            \n",
            "                                                                     'layer_normalization_16[0][0]\n",
            "                                                                    ',                            \n",
            "                                                                     'layer_normalization_16[0][0]\n",
            "                                                                    ']                            \n",
            "                                                                                                  \n",
            " add_16 (Add)                (None, 17, 128)              0         ['add_15[0][0]',              \n",
            "                                                                     'multi_head_attention_8[0][0]\n",
            "                                                                    ']                            \n",
            "                                                                                                  \n",
            " layer_normalization_17 (La  (None, 17, 128)              256       ['add_16[0][0]']              \n",
            " yerNormalization)                                                                                \n",
            "                                                                                                  \n",
            " dense_17 (Dense)            (None, 17, 128)              16512     ['layer_normalization_17[0][0]\n",
            "                                                                    ']                            \n",
            "                                                                                                  \n",
            " dropout_32 (Dropout)        (None, 17, 128)              0         ['dense_17[0][0]']            \n",
            "                                                                                                  \n",
            " dense_18 (Dense)            (None, 17, 128)              16512     ['dropout_32[0][0]']          \n",
            "                                                                                                  \n",
            " dropout_33 (Dropout)        (None, 17, 128)              0         ['dense_18[0][0]']            \n",
            "                                                                                                  \n",
            " add_17 (Add)                (None, 17, 128)              0         ['dropout_33[0][0]',          \n",
            "                                                                     'add_16[0][0]']              \n",
            "                                                                                                  \n",
            " layer_normalization_18 (La  (None, 17, 128)              256       ['add_17[0][0]']              \n",
            " yerNormalization)                                                                                \n",
            "                                                                                                  \n",
            " multi_head_attention_9 (Mu  (None, 17, 128)              66048     ['layer_normalization_18[0][0]\n",
            " ltiHeadAttention)                                                  ',                            \n",
            "                                                                     'layer_normalization_18[0][0]\n",
            "                                                                    ',                            \n",
            "                                                                     'layer_normalization_18[0][0]\n",
            "                                                                    ']                            \n",
            "                                                                                                  \n",
            " add_18 (Add)                (None, 17, 128)              0         ['add_17[0][0]',              \n",
            "                                                                     'multi_head_attention_9[0][0]\n",
            "                                                                    ']                            \n",
            "                                                                                                  \n",
            " layer_normalization_19 (La  (None, 17, 128)              256       ['add_18[0][0]']              \n",
            " yerNormalization)                                                                                \n",
            "                                                                                                  \n",
            " dense_19 (Dense)            (None, 17, 128)              16512     ['layer_normalization_19[0][0]\n",
            "                                                                    ']                            \n",
            "                                                                                                  \n",
            " dropout_34 (Dropout)        (None, 17, 128)              0         ['dense_19[0][0]']            \n",
            "                                                                                                  \n",
            " dense_20 (Dense)            (None, 17, 128)              16512     ['dropout_34[0][0]']          \n",
            "                                                                                                  \n",
            " dropout_35 (Dropout)        (None, 17, 128)              0         ['dense_20[0][0]']            \n",
            "                                                                                                  \n",
            " add_19 (Add)                (None, 17, 128)              0         ['dropout_35[0][0]',          \n",
            "                                                                     'add_18[0][0]']              \n",
            "                                                                                                  \n",
            " layer_normalization_20 (La  (None, 17, 128)              256       ['add_19[0][0]']              \n",
            " yerNormalization)                                                                                \n",
            "                                                                                                  \n",
            " multi_head_attention_10 (M  (None, 17, 128)              66048     ['layer_normalization_20[0][0]\n",
            " ultiHeadAttention)                                                 ',                            \n",
            "                                                                     'layer_normalization_20[0][0]\n",
            "                                                                    ',                            \n",
            "                                                                     'layer_normalization_20[0][0]\n",
            "                                                                    ']                            \n",
            "                                                                                                  \n",
            " add_20 (Add)                (None, 17, 128)              0         ['add_19[0][0]',              \n",
            "                                                                     'multi_head_attention_10[0][0\n",
            "                                                                    ]']                           \n",
            "                                                                                                  \n",
            " layer_normalization_21 (La  (None, 17, 128)              256       ['add_20[0][0]']              \n",
            " yerNormalization)                                                                                \n",
            "                                                                                                  \n",
            " dense_21 (Dense)            (None, 17, 128)              16512     ['layer_normalization_21[0][0]\n",
            "                                                                    ']                            \n",
            "                                                                                                  \n",
            " dropout_36 (Dropout)        (None, 17, 128)              0         ['dense_21[0][0]']            \n",
            "                                                                                                  \n",
            " dense_22 (Dense)            (None, 17, 128)              16512     ['dropout_36[0][0]']          \n",
            "                                                                                                  \n",
            " dropout_37 (Dropout)        (None, 17, 128)              0         ['dense_22[0][0]']            \n",
            "                                                                                                  \n",
            " add_21 (Add)                (None, 17, 128)              0         ['dropout_37[0][0]',          \n",
            "                                                                     'add_20[0][0]']              \n",
            "                                                                                                  \n",
            " layer_normalization_22 (La  (None, 17, 128)              256       ['add_21[0][0]']              \n",
            " yerNormalization)                                                                                \n",
            "                                                                                                  \n",
            " multi_head_attention_11 (M  (None, 17, 128)              66048     ['layer_normalization_22[0][0]\n",
            " ultiHeadAttention)                                                 ',                            \n",
            "                                                                     'layer_normalization_22[0][0]\n",
            "                                                                    ',                            \n",
            "                                                                     'layer_normalization_22[0][0]\n",
            "                                                                    ']                            \n",
            "                                                                                                  \n",
            " add_22 (Add)                (None, 17, 128)              0         ['add_21[0][0]',              \n",
            "                                                                     'multi_head_attention_11[0][0\n",
            "                                                                    ]']                           \n",
            "                                                                                                  \n",
            " layer_normalization_23 (La  (None, 17, 128)              256       ['add_22[0][0]']              \n",
            " yerNormalization)                                                                                \n",
            "                                                                                                  \n",
            " dense_23 (Dense)            (None, 17, 128)              16512     ['layer_normalization_23[0][0]\n",
            "                                                                    ']                            \n",
            "                                                                                                  \n",
            " dropout_38 (Dropout)        (None, 17, 128)              0         ['dense_23[0][0]']            \n",
            "                                                                                                  \n",
            " dense_24 (Dense)            (None, 17, 128)              16512     ['dropout_38[0][0]']          \n",
            "                                                                                                  \n",
            " dropout_39 (Dropout)        (None, 17, 128)              0         ['dense_24[0][0]']            \n",
            "                                                                                                  \n",
            " add_23 (Add)                (None, 17, 128)              0         ['dropout_39[0][0]',          \n",
            "                                                                     'add_22[0][0]']              \n",
            "                                                                                                  \n",
            " layer_normalization_24 (La  (None, 17, 128)              256       ['add_23[0][0]']              \n",
            " yerNormalization)                                                                                \n",
            "                                                                                                  \n",
            " multi_head_attention_12 (M  (None, 17, 128)              66048     ['layer_normalization_24[0][0]\n",
            " ultiHeadAttention)                                                 ',                            \n",
            "                                                                     'layer_normalization_24[0][0]\n",
            "                                                                    ',                            \n",
            "                                                                     'layer_normalization_24[0][0]\n",
            "                                                                    ']                            \n",
            "                                                                                                  \n",
            " add_24 (Add)                (None, 17, 128)              0         ['add_23[0][0]',              \n",
            "                                                                     'multi_head_attention_12[0][0\n",
            "                                                                    ]']                           \n",
            "                                                                                                  \n",
            " layer_normalization_25 (La  (None, 17, 128)              256       ['add_24[0][0]']              \n",
            " yerNormalization)                                                                                \n",
            "                                                                                                  \n",
            " dense_25 (Dense)            (None, 17, 128)              16512     ['layer_normalization_25[0][0]\n",
            "                                                                    ']                            \n",
            "                                                                                                  \n",
            " dropout_40 (Dropout)        (None, 17, 128)              0         ['dense_25[0][0]']            \n",
            "                                                                                                  \n",
            " dense_26 (Dense)            (None, 17, 128)              16512     ['dropout_40[0][0]']          \n",
            "                                                                                                  \n",
            " dropout_41 (Dropout)        (None, 17, 128)              0         ['dense_26[0][0]']            \n",
            "                                                                                                  \n",
            " add_25 (Add)                (None, 17, 128)              0         ['dropout_41[0][0]',          \n",
            "                                                                     'add_24[0][0]']              \n",
            "                                                                                                  \n",
            " layer_normalization_26 (La  (None, 17, 128)              256       ['add_25[0][0]']              \n",
            " yerNormalization)                                                                                \n",
            "                                                                                                  \n",
            " multi_head_attention_13 (M  (None, 17, 128)              66048     ['layer_normalization_26[0][0]\n",
            " ultiHeadAttention)                                                 ',                            \n",
            "                                                                     'layer_normalization_26[0][0]\n",
            "                                                                    ',                            \n",
            "                                                                     'layer_normalization_26[0][0]\n",
            "                                                                    ']                            \n",
            "                                                                                                  \n",
            " add_26 (Add)                (None, 17, 128)              0         ['add_25[0][0]',              \n",
            "                                                                     'multi_head_attention_13[0][0\n",
            "                                                                    ]']                           \n",
            "                                                                                                  \n",
            " layer_normalization_27 (La  (None, 17, 128)              256       ['add_26[0][0]']              \n",
            " yerNormalization)                                                                                \n",
            "                                                                                                  \n",
            " dense_27 (Dense)            (None, 17, 128)              16512     ['layer_normalization_27[0][0]\n",
            "                                                                    ']                            \n",
            "                                                                                                  \n",
            " dropout_42 (Dropout)        (None, 17, 128)              0         ['dense_27[0][0]']            \n",
            "                                                                                                  \n",
            " dense_28 (Dense)            (None, 17, 128)              16512     ['dropout_42[0][0]']          \n",
            "                                                                                                  \n",
            " dropout_43 (Dropout)        (None, 17, 128)              0         ['dense_28[0][0]']            \n",
            "                                                                                                  \n",
            " add_27 (Add)                (None, 17, 128)              0         ['dropout_43[0][0]',          \n",
            "                                                                     'add_26[0][0]']              \n",
            "                                                                                                  \n",
            " layer_normalization_28 (La  (None, 17, 128)              256       ['add_27[0][0]']              \n",
            " yerNormalization)                                                                                \n",
            "                                                                                                  \n",
            " multi_head_attention_14 (M  (None, 17, 128)              66048     ['layer_normalization_28[0][0]\n",
            " ultiHeadAttention)                                                 ',                            \n",
            "                                                                     'layer_normalization_28[0][0]\n",
            "                                                                    ',                            \n",
            "                                                                     'layer_normalization_28[0][0]\n",
            "                                                                    ']                            \n",
            "                                                                                                  \n",
            " add_28 (Add)                (None, 17, 128)              0         ['add_27[0][0]',              \n",
            "                                                                     'multi_head_attention_14[0][0\n",
            "                                                                    ]']                           \n",
            "                                                                                                  \n",
            " layer_normalization_29 (La  (None, 17, 128)              256       ['add_28[0][0]']              \n",
            " yerNormalization)                                                                                \n",
            "                                                                                                  \n",
            " dense_29 (Dense)            (None, 17, 128)              16512     ['layer_normalization_29[0][0]\n",
            "                                                                    ']                            \n",
            "                                                                                                  \n",
            " dropout_44 (Dropout)        (None, 17, 128)              0         ['dense_29[0][0]']            \n",
            "                                                                                                  \n",
            " dense_30 (Dense)            (None, 17, 128)              16512     ['dropout_44[0][0]']          \n",
            "                                                                                                  \n",
            " dropout_45 (Dropout)        (None, 17, 128)              0         ['dense_30[0][0]']            \n",
            "                                                                                                  \n",
            " add_29 (Add)                (None, 17, 128)              0         ['dropout_45[0][0]',          \n",
            "                                                                     'add_28[0][0]']              \n",
            "                                                                                                  \n",
            " layer_normalization_30 (La  (None, 17, 128)              256       ['add_29[0][0]']              \n",
            " yerNormalization)                                                                                \n",
            "                                                                                                  \n",
            " multi_head_attention_15 (M  (None, 17, 128)              66048     ['layer_normalization_30[0][0]\n",
            " ultiHeadAttention)                                                 ',                            \n",
            "                                                                     'layer_normalization_30[0][0]\n",
            "                                                                    ',                            \n",
            "                                                                     'layer_normalization_30[0][0]\n",
            "                                                                    ']                            \n",
            "                                                                                                  \n",
            " add_30 (Add)                (None, 17, 128)              0         ['add_29[0][0]',              \n",
            "                                                                     'multi_head_attention_15[0][0\n",
            "                                                                    ]']                           \n",
            "                                                                                                  \n",
            " layer_normalization_31 (La  (None, 17, 128)              256       ['add_30[0][0]']              \n",
            " yerNormalization)                                                                                \n",
            "                                                                                                  \n",
            " dense_31 (Dense)            (None, 17, 128)              16512     ['layer_normalization_31[0][0]\n",
            "                                                                    ']                            \n",
            "                                                                                                  \n",
            " dropout_46 (Dropout)        (None, 17, 128)              0         ['dense_31[0][0]']            \n",
            "                                                                                                  \n",
            " dense_32 (Dense)            (None, 17, 128)              16512     ['dropout_46[0][0]']          \n",
            "                                                                                                  \n",
            " dropout_47 (Dropout)        (None, 17, 128)              0         ['dense_32[0][0]']            \n",
            "                                                                                                  \n",
            " add_31 (Add)                (None, 17, 128)              0         ['dropout_47[0][0]',          \n",
            "                                                                     'add_30[0][0]']              \n",
            "                                                                                                  \n",
            " layer_normalization_32 (La  (None, 17, 128)              256       ['add_31[0][0]']              \n",
            " yerNormalization)                                                                                \n",
            "                                                                                                  \n",
            " tf.__operators__.getitem_1  (None, 128)                  0         ['layer_normalization_32[0][0]\n",
            "  (SlicingOpLambda)                                                 ']                            \n",
            "                                                                                                  \n",
            " dense_33 (Dense)            (None, 10)                   1290      ['tf.__operators__.getitem_1[0\n",
            "                                                                    ][0]']                        \n",
            "                                                                                                  \n",
            "==================================================================================================\n",
            "Total params: 1603466 (6.12 MB)\n",
            "Trainable params: 1603466 (6.12 MB)\n",
            "Non-trainable params: 0 (0.00 Byte)\n",
            "__________________________________________________________________________________________________\n"
          ]
        }
      ],
      "source": [
        "n = 4\n",
        "m = 4\n",
        "block_size = 49\n",
        "hidden_dim = 128\n",
        "num_layers = 16\n",
        "num_heads = 8\n",
        "key_dim = hidden_dim//num_heads\n",
        "# usually good practice for key_dim to be hidden_dim//num_heads...this is why we do Multi-Head attention\n",
        "mlp_dim = hidden_dim\n",
        "dropout_rate = 0.01\n",
        "num_classes = 10\n",
        "\n",
        "\n",
        "\n",
        "trans = build_ViT(n,m,block_size,hidden_dim,num_layers,num_heads,key_dim,mlp_dim,dropout_rate,num_classes)\n",
        "trans.summary()"
      ],
      "id": "19ce4b9d"
    },
    {
      "cell_type": "markdown",
      "source": [
        "## Step 11: Reshape the Dataset (include flattening)"
      ],
      "metadata": {
        "id": "g3plY42nuR2u"
      },
      "id": "g3plY42nuR2u"
    },
    {
      "cell_type": "code",
      "execution_count": null,
      "metadata": {
        "colab": {
          "base_uri": "https://localhost:8080/"
        },
        "id": "8e1adb6a",
        "outputId": "c933f753-47b7-4833-a9cf-ace5f172e89e"
      },
      "outputs": [
        {
          "name": "stdout",
          "output_type": "stream",
          "text": [
            "Downloading data from https://storage.googleapis.com/tensorflow/tf-keras-datasets/mnist.npz\n",
            "11490434/11490434 [==============================] - 0s 0us/step\n"
          ]
        }
      ],
      "source": [
        "mnist = tf.keras.datasets.mnist\n",
        "\n",
        "(x_train, y_train),(x_test, y_test) = mnist.load_data()\n",
        "x_train, x_test = x_train / 255.0, x_test / 255.0\n",
        "\n",
        "ndata_train = x_train.shape[0]\n",
        "ndata_test = x_test.shape[0]"
      ],
      "id": "8e1adb6a"
    },
    {
      "cell_type": "code",
      "execution_count": null,
      "metadata": {
        "colab": {
          "base_uri": "https://localhost:8080/"
        },
        "id": "1d93bf33",
        "outputId": "db7573f4-0646-4783-b59b-d38e941a36c0"
      },
      "outputs": [
        {
          "data": {
            "text/plain": [
              "(60000, 28, 28)"
            ]
          },
          "execution_count": 10,
          "metadata": {},
          "output_type": "execute_result"
        }
      ],
      "source": [
        "x_train.shape"
      ],
      "id": "1d93bf33"
    },
    {
      "cell_type": "code",
      "execution_count": null,
      "metadata": {
        "id": "7359ed66"
      },
      "outputs": [],
      "source": [
        "x_train_ravel = np.zeros((ndata_train,n*m,block_size))\n",
        "for img in range(ndata_train):\n",
        "    ind = 0\n",
        "    for row in range(n):\n",
        "        for col in range(m):\n",
        "            x_train_ravel[img,ind,:] = x_train[img,(row*7):((row+1)*7),(col*7):((col+1)*7)].ravel()\n",
        "            ind += 1\n"
      ],
      "id": "7359ed66"
    },
    {
      "cell_type": "code",
      "execution_count": null,
      "metadata": {
        "id": "67e3829d"
      },
      "outputs": [],
      "source": [
        "x_test_ravel = np.zeros((ndata_test,n*m,block_size))\n",
        "for img in range(ndata_test):\n",
        "    ind = 0\n",
        "    for row in range(n):\n",
        "        for col in range(m):\n",
        "            x_test_ravel[img,ind,:] = x_test[img,(row*7):((row+1)*7),(col*7):((col+1)*7)].ravel()\n",
        "            ind += 1"
      ],
      "id": "67e3829d"
    },
    {
      "cell_type": "code",
      "execution_count": null,
      "metadata": {
        "id": "7a64dd97"
      },
      "outputs": [],
      "source": [
        "pos_feed_train = np.array([list(range(n*m))]*ndata_train)\n",
        "pos_feed_test = np.array([list(range(n*m))]*ndata_test)"
      ],
      "id": "7a64dd97"
    },
    {
      "cell_type": "markdown",
      "source": [
        "## Step 12: Define Learning Rate Scheduler Function and Step 13: Fit the Model"
      ],
      "metadata": {
        "id": "cc0jezLcv92A"
      },
      "id": "cc0jezLcv92A"
    },
    {
      "cell_type": "code",
      "execution_count": null,
      "metadata": {
        "colab": {
          "background_save": true,
          "base_uri": "https://localhost:8080/"
        },
        "id": "CJKa2tan1Dw4",
        "outputId": "54c9f6c6-80ed-4335-9e54-75387ff32f3e"
      },
      "outputs": [
        {
          "name": "stdout",
          "output_type": "stream",
          "text": [
            "Epoch 1/100\n",
            "188/188 [==============================] - 529s 3s/step - loss: 0.0876 - accuracy: 0.9717 - val_loss: 0.1093 - val_accuracy: 0.9671 - lr: 0.0010\n",
            "Epoch 2/100\n",
            "188/188 [==============================] - 502s 3s/step - loss: 0.0651 - accuracy: 0.9788 - val_loss: 0.0840 - val_accuracy: 0.9744 - lr: 0.0010\n",
            "Epoch 3/100\n",
            "188/188 [==============================] - 507s 3s/step - loss: 0.0541 - accuracy: 0.9825 - val_loss: 0.0822 - val_accuracy: 0.9763 - lr: 0.0010\n",
            "Epoch 4/100\n",
            "188/188 [==============================] - 499s 3s/step - loss: 0.0426 - accuracy: 0.9862 - val_loss: 0.0753 - val_accuracy: 0.9790 - lr: 0.0010\n",
            "Epoch 5/100\n",
            "188/188 [==============================] - 496s 3s/step - loss: 0.0414 - accuracy: 0.9864 - val_loss: 0.0912 - val_accuracy: 0.9745 - lr: 0.0010\n",
            "Epoch 6/100\n",
            "188/188 [==============================] - 493s 3s/step - loss: 0.0366 - accuracy: 0.9878 - val_loss: 0.0846 - val_accuracy: 0.9753 - lr: 0.0010\n",
            "Epoch 7/100\n",
            "188/188 [==============================] - 489s 3s/step - loss: 0.0338 - accuracy: 0.9891 - val_loss: 0.0714 - val_accuracy: 0.9798 - lr: 0.0010\n",
            "Epoch 8/100\n",
            "188/188 [==============================] - 489s 3s/step - loss: 0.0336 - accuracy: 0.9887 - val_loss: 0.0719 - val_accuracy: 0.9801 - lr: 0.0010\n",
            "Epoch 9/100\n",
            "188/188 [==============================] - 487s 3s/step - loss: 0.0353 - accuracy: 0.9883 - val_loss: 0.0751 - val_accuracy: 0.9788 - lr: 0.0010\n",
            "Epoch 10/100\n",
            "188/188 [==============================] - 502s 3s/step - loss: 0.0333 - accuracy: 0.9889 - val_loss: 0.0803 - val_accuracy: 0.9780 - lr: 0.0010\n",
            "Epoch 11/100\n",
            "188/188 [==============================] - 502s 3s/step - loss: 0.0222 - accuracy: 0.9922 - val_loss: 0.0792 - val_accuracy: 0.9796 - lr: 9.0484e-04\n",
            "Epoch 12/100\n",
            "188/188 [==============================] - 505s 3s/step - loss: 0.0134 - accuracy: 0.9957 - val_loss: 0.0693 - val_accuracy: 0.9819 - lr: 8.1873e-04\n",
            "Epoch 13/100\n",
            "188/188 [==============================] - 506s 3s/step - loss: 0.0148 - accuracy: 0.9948 - val_loss: 0.0737 - val_accuracy: 0.9819 - lr: 7.4082e-04\n",
            "Epoch 14/100\n",
            "188/188 [==============================] - 509s 3s/step - loss: 0.0100 - accuracy: 0.9965 - val_loss: 0.0742 - val_accuracy: 0.9815 - lr: 6.7032e-04\n",
            "Epoch 15/100\n",
            "188/188 [==============================] - 496s 3s/step - loss: 0.0076 - accuracy: 0.9974 - val_loss: 0.0690 - val_accuracy: 0.9836 - lr: 6.0653e-04\n",
            "Epoch 16/100\n",
            "188/188 [==============================] - 487s 3s/step - loss: 0.0052 - accuracy: 0.9981 - val_loss: 0.0674 - val_accuracy: 0.9851 - lr: 5.4881e-04\n",
            "Epoch 17/100\n",
            "188/188 [==============================] - 491s 3s/step - loss: 0.0029 - accuracy: 0.9990 - val_loss: 0.0651 - val_accuracy: 0.9859 - lr: 4.9659e-04\n",
            "Epoch 18/100\n",
            "188/188 [==============================] - 494s 3s/step - loss: 0.0018 - accuracy: 0.9994 - val_loss: 0.0697 - val_accuracy: 0.9856 - lr: 4.4933e-04\n",
            "Epoch 19/100\n",
            "188/188 [==============================] - 493s 3s/step - loss: 9.9581e-04 - accuracy: 0.9998 - val_loss: 0.0686 - val_accuracy: 0.9847 - lr: 4.0657e-04\n",
            "Epoch 20/100\n",
            "188/188 [==============================] - 483s 3s/step - loss: 8.1222e-04 - accuracy: 0.9998 - val_loss: 0.0654 - val_accuracy: 0.9869 - lr: 3.6788e-04\n",
            "Epoch 21/100\n",
            "188/188 [==============================] - 487s 3s/step - loss: 6.2143e-04 - accuracy: 0.9998 - val_loss: 0.0715 - val_accuracy: 0.9861 - lr: 3.3287e-04\n",
            "Epoch 22/100\n",
            "146/188 [======================>.......] - ETA: 1:42 - loss: 8.5768e-04 - accuracy: 0.9998"
          ]
        }
      ],
      "source": [
        "#Step 12:\n",
        "# Define your learning rate scheduler function\n",
        "def lr_scheduler(epoch, lr):\n",
        "    if epoch < 10:\n",
        "        return lr  # Keep the initial learning rate for the first 10 epochs\n",
        "    else:\n",
        "        return lr * tf.math.exp(-0.1)  # Exponentially decay the learning rate after 10 epochs\n",
        "\n",
        "# Create the learning rate scheduler callback\n",
        "lr_callback = tf.keras.callbacks.LearningRateScheduler(lr_scheduler)\n",
        "\n",
        "# Define the model checkpoint callback to save the best model weights\n",
        "checkpoint_filepath = 'model_checkpoint.h5'\n",
        "model_checkpoint_callback = tf.keras.callbacks.ModelCheckpoint(\n",
        "    filepath=checkpoint_filepath,\n",
        "    save_weights_only=True,\n",
        "    monitor='val_accuracy',\n",
        "    mode='max',\n",
        "    save_best_only=True)\n",
        "\n",
        "\n",
        "#Step 13: Fitting the model\n",
        "# Call trans.fit() with the learning rate scheduler and model checkpoint callbacks\n",
        "trans.fit([x_train_ravel, pos_feed_train], y_train,\n",
        "          epochs=100, batch_size=256, validation_split=0.20,\n",
        "          callbacks=[lr_callback, model_checkpoint_callback])"
      ],
      "id": "CJKa2tan1Dw4"
    },
    {
      "cell_type": "code",
      "execution_count": null,
      "metadata": {
        "colab": {
          "base_uri": "https://localhost:8080/"
        },
        "id": "qeJy66Dq-tY1",
        "outputId": "a3300e46-8e5e-4e13-d30d-3986f824f78e"
      },
      "outputs": [
        {
          "name": "stderr",
          "output_type": "stream",
          "text": [
            "/usr/local/lib/python3.10/dist-packages/keras/src/engine/training.py:3103: UserWarning: You are saving your model as an HDF5 file via `model.save()`. This file format is considered legacy. We recommend using instead the native Keras format, e.g. `model.save('my_model.keras')`.\n",
            "  saving_api.save_model(\n"
          ]
        }
      ],
      "source": [
        "# saving the model for reproducibility\n",
        "\n",
        "trans.save(\"/content/drive/MyDrive/optimization_hw_1_t.h5\")"
      ],
      "id": "qeJy66Dq-tY1"
    },
    {
      "cell_type": "code",
      "execution_count": null,
      "metadata": {
        "colab": {
          "base_uri": "https://localhost:8080/"
        },
        "id": "66b41b3a",
        "outputId": "a3524425-af8d-4d8f-b67a-8bcacd364597"
      },
      "outputs": [
        {
          "name": "stdout",
          "output_type": "stream",
          "text": [
            "313/313 [==============================] - 13s 40ms/step - loss: 0.0660 - accuracy: 0.9879\n"
          ]
        }
      ],
      "source": [
        "out = trans.evaluate([x_test_ravel,pos_feed_test],y_test)"
      ],
      "id": "66b41b3a"
    },
    {
      "cell_type": "code",
      "execution_count": null,
      "metadata": {
        "colab": {
          "base_uri": "https://localhost:8080/"
        },
        "id": "I0TmCvwYvWAM",
        "outputId": "24ec9199-d774-4273-c689-479d16355650"
      },
      "outputs": [
        {
          "data": {
            "text/plain": [
              "(60000, 16, 49)"
            ]
          },
          "execution_count": 18,
          "metadata": {},
          "output_type": "execute_result"
        }
      ],
      "source": [
        "x_train_ravel.shape"
      ],
      "id": "I0TmCvwYvWAM"
    },
    {
      "cell_type": "markdown",
      "metadata": {
        "id": "k3dWtZB2Rsoo"
      },
      "source": [
        "## Step 14: Assess Transformer Learning Curves and Classifications (Visually)"
      ],
      "id": "k3dWtZB2Rsoo"
    },
    {
      "cell_type": "code",
      "execution_count": null,
      "metadata": {
        "id": "ZszbGLfV-czn"
      },
      "outputs": [],
      "source": [
        "import keras\n",
        "from keras.models import load_model\n",
        "import matplotlib.pyplot as plt\n"
      ],
      "id": "ZszbGLfV-czn"
    },
    {
      "cell_type": "code",
      "execution_count": null,
      "metadata": {
        "colab": {
          "base_uri": "https://localhost:8080/",
          "height": 73
        },
        "id": "4DbMkKt7_Kt3",
        "outputId": "cedf32b4-6a2d-4a07-be21-ce8db96090bc"
      },
      "outputs": [
        {
          "data": {
            "text/html": [
              "\n",
              "     <input type=\"file\" id=\"files-6905dda8-5fcf-49d1-a8ec-d55f050f9f63\" name=\"files[]\" multiple disabled\n",
              "        style=\"border:none\" />\n",
              "     <output id=\"result-6905dda8-5fcf-49d1-a8ec-d55f050f9f63\">\n",
              "      Upload widget is only available when the cell has been executed in the\n",
              "      current browser session. Please rerun this cell to enable.\n",
              "      </output>\n",
              "      <script>// Copyright 2017 Google LLC\n",
              "//\n",
              "// Licensed under the Apache License, Version 2.0 (the \"License\");\n",
              "// you may not use this file except in compliance with the License.\n",
              "// You may obtain a copy of the License at\n",
              "//\n",
              "//      http://www.apache.org/licenses/LICENSE-2.0\n",
              "//\n",
              "// Unless required by applicable law or agreed to in writing, software\n",
              "// distributed under the License is distributed on an \"AS IS\" BASIS,\n",
              "// WITHOUT WARRANTIES OR CONDITIONS OF ANY KIND, either express or implied.\n",
              "// See the License for the specific language governing permissions and\n",
              "// limitations under the License.\n",
              "\n",
              "/**\n",
              " * @fileoverview Helpers for google.colab Python module.\n",
              " */\n",
              "(function(scope) {\n",
              "function span(text, styleAttributes = {}) {\n",
              "  const element = document.createElement('span');\n",
              "  element.textContent = text;\n",
              "  for (const key of Object.keys(styleAttributes)) {\n",
              "    element.style[key] = styleAttributes[key];\n",
              "  }\n",
              "  return element;\n",
              "}\n",
              "\n",
              "// Max number of bytes which will be uploaded at a time.\n",
              "const MAX_PAYLOAD_SIZE = 100 * 1024;\n",
              "\n",
              "function _uploadFiles(inputId, outputId) {\n",
              "  const steps = uploadFilesStep(inputId, outputId);\n",
              "  const outputElement = document.getElementById(outputId);\n",
              "  // Cache steps on the outputElement to make it available for the next call\n",
              "  // to uploadFilesContinue from Python.\n",
              "  outputElement.steps = steps;\n",
              "\n",
              "  return _uploadFilesContinue(outputId);\n",
              "}\n",
              "\n",
              "// This is roughly an async generator (not supported in the browser yet),\n",
              "// where there are multiple asynchronous steps and the Python side is going\n",
              "// to poll for completion of each step.\n",
              "// This uses a Promise to block the python side on completion of each step,\n",
              "// then passes the result of the previous step as the input to the next step.\n",
              "function _uploadFilesContinue(outputId) {\n",
              "  const outputElement = document.getElementById(outputId);\n",
              "  const steps = outputElement.steps;\n",
              "\n",
              "  const next = steps.next(outputElement.lastPromiseValue);\n",
              "  return Promise.resolve(next.value.promise).then((value) => {\n",
              "    // Cache the last promise value to make it available to the next\n",
              "    // step of the generator.\n",
              "    outputElement.lastPromiseValue = value;\n",
              "    return next.value.response;\n",
              "  });\n",
              "}\n",
              "\n",
              "/**\n",
              " * Generator function which is called between each async step of the upload\n",
              " * process.\n",
              " * @param {string} inputId Element ID of the input file picker element.\n",
              " * @param {string} outputId Element ID of the output display.\n",
              " * @return {!Iterable<!Object>} Iterable of next steps.\n",
              " */\n",
              "function* uploadFilesStep(inputId, outputId) {\n",
              "  const inputElement = document.getElementById(inputId);\n",
              "  inputElement.disabled = false;\n",
              "\n",
              "  const outputElement = document.getElementById(outputId);\n",
              "  outputElement.innerHTML = '';\n",
              "\n",
              "  const pickedPromise = new Promise((resolve) => {\n",
              "    inputElement.addEventListener('change', (e) => {\n",
              "      resolve(e.target.files);\n",
              "    });\n",
              "  });\n",
              "\n",
              "  const cancel = document.createElement('button');\n",
              "  inputElement.parentElement.appendChild(cancel);\n",
              "  cancel.textContent = 'Cancel upload';\n",
              "  const cancelPromise = new Promise((resolve) => {\n",
              "    cancel.onclick = () => {\n",
              "      resolve(null);\n",
              "    };\n",
              "  });\n",
              "\n",
              "  // Wait for the user to pick the files.\n",
              "  const files = yield {\n",
              "    promise: Promise.race([pickedPromise, cancelPromise]),\n",
              "    response: {\n",
              "      action: 'starting',\n",
              "    }\n",
              "  };\n",
              "\n",
              "  cancel.remove();\n",
              "\n",
              "  // Disable the input element since further picks are not allowed.\n",
              "  inputElement.disabled = true;\n",
              "\n",
              "  if (!files) {\n",
              "    return {\n",
              "      response: {\n",
              "        action: 'complete',\n",
              "      }\n",
              "    };\n",
              "  }\n",
              "\n",
              "  for (const file of files) {\n",
              "    const li = document.createElement('li');\n",
              "    li.append(span(file.name, {fontWeight: 'bold'}));\n",
              "    li.append(span(\n",
              "        `(${file.type || 'n/a'}) - ${file.size} bytes, ` +\n",
              "        `last modified: ${\n",
              "            file.lastModifiedDate ? file.lastModifiedDate.toLocaleDateString() :\n",
              "                                    'n/a'} - `));\n",
              "    const percent = span('0% done');\n",
              "    li.appendChild(percent);\n",
              "\n",
              "    outputElement.appendChild(li);\n",
              "\n",
              "    const fileDataPromise = new Promise((resolve) => {\n",
              "      const reader = new FileReader();\n",
              "      reader.onload = (e) => {\n",
              "        resolve(e.target.result);\n",
              "      };\n",
              "      reader.readAsArrayBuffer(file);\n",
              "    });\n",
              "    // Wait for the data to be ready.\n",
              "    let fileData = yield {\n",
              "      promise: fileDataPromise,\n",
              "      response: {\n",
              "        action: 'continue',\n",
              "      }\n",
              "    };\n",
              "\n",
              "    // Use a chunked sending to avoid message size limits. See b/62115660.\n",
              "    let position = 0;\n",
              "    do {\n",
              "      const length = Math.min(fileData.byteLength - position, MAX_PAYLOAD_SIZE);\n",
              "      const chunk = new Uint8Array(fileData, position, length);\n",
              "      position += length;\n",
              "\n",
              "      const base64 = btoa(String.fromCharCode.apply(null, chunk));\n",
              "      yield {\n",
              "        response: {\n",
              "          action: 'append',\n",
              "          file: file.name,\n",
              "          data: base64,\n",
              "        },\n",
              "      };\n",
              "\n",
              "      let percentDone = fileData.byteLength === 0 ?\n",
              "          100 :\n",
              "          Math.round((position / fileData.byteLength) * 100);\n",
              "      percent.textContent = `${percentDone}% done`;\n",
              "\n",
              "    } while (position < fileData.byteLength);\n",
              "  }\n",
              "\n",
              "  // All done.\n",
              "  yield {\n",
              "    response: {\n",
              "      action: 'complete',\n",
              "    }\n",
              "  };\n",
              "}\n",
              "\n",
              "scope.google = scope.google || {};\n",
              "scope.google.colab = scope.google.colab || {};\n",
              "scope.google.colab._files = {\n",
              "  _uploadFiles,\n",
              "  _uploadFilesContinue,\n",
              "};\n",
              "})(self);\n",
              "</script> "
            ],
            "text/plain": [
              "<IPython.core.display.HTML object>"
            ]
          },
          "metadata": {},
          "output_type": "display_data"
        },
        {
          "name": "stdout",
          "output_type": "stream",
          "text": [
            "Saving Transformer_Model_Final.h5 to Transformer_Model_Final.h5\n"
          ]
        }
      ],
      "source": [
        "from google.colab import files\n",
        "uploaded = files.upload()"
      ],
      "id": "4DbMkKt7_Kt3"
    },
    {
      "cell_type": "code",
      "execution_count": null,
      "metadata": {
        "id": "1GfBzZaV-TLQ"
      },
      "outputs": [],
      "source": [
        "# class ClassToken(tf.keras.layers.Layer):\n",
        "#     def __init__(self):\n",
        "#         super().__init__()\n",
        "\n",
        "#     def build(self, input_shape):\n",
        "#         w_init = tf.random_normal_initializer()\n",
        "#         self.w = tf.Variable(\n",
        "#             initial_value = w_init(shape=(1, 1, input_shape[-1]), dtype=tf.float32),\n",
        "#             trainable = True\n",
        "#         )\n",
        "\n",
        "#     def call(self, inputs):\n",
        "#         batch_size = tf.shape(inputs)[0]\n",
        "#         hidden_dim = self.w.shape[-1]\n",
        "\n",
        "#         cls = tf.broadcast_to(self.w, [batch_size, 1, hidden_dim])\n",
        "#         cls = tf.cast(cls, dtype=inputs.dtype)\n",
        "#         return cls\n",
        "\n",
        "# Register the custom object using custom_object_scope\n",
        "with keras.utils.custom_object_scope({'ClassToken': ClassToken}):\n",
        "    # Load the model from the file\n",
        "    model = load_model('Transformer_Model_Final.h5')\n",
        "    #model = load_model('/content/drive/MyDrive/optimization_hw_1_t.h5')"
      ],
      "id": "1GfBzZaV-TLQ"
    },
    {
      "cell_type": "code",
      "execution_count": null,
      "metadata": {
        "colab": {
          "base_uri": "https://localhost:8080/"
        },
        "id": "z1vqIC00RQW7",
        "outputId": "5c5f591d-4e0e-4185-e168-cd2d5755febd"
      },
      "outputs": [
        {
          "name": "stdout",
          "output_type": "stream",
          "text": [
            "313/313 [==============================] - 14s 40ms/step - loss: 0.0620 - accuracy: 0.9901\n"
          ]
        }
      ],
      "source": [
        "out = model.evaluate([x_test_ravel,pos_feed_test],y_test)"
      ],
      "id": "z1vqIC00RQW7"
    },
    {
      "cell_type": "code",
      "execution_count": null,
      "metadata": {
        "colab": {
          "base_uri": "https://localhost:8080/"
        },
        "id": "vm4bHGsqRj3N",
        "outputId": "4da2bc44-2907-4a62-bf95-65541d9d5d1c"
      },
      "outputs": [
        {
          "data": {
            "text/plain": [
              "0.9901000261306763"
            ]
          },
          "execution_count": 32,
          "metadata": {},
          "output_type": "execute_result"
        }
      ],
      "source": [
        "out[1]"
      ],
      "id": "vm4bHGsqRj3N"
    },
    {
      "cell_type": "code",
      "execution_count": null,
      "metadata": {
        "colab": {
          "base_uri": "https://localhost:8080/",
          "height": 624
        },
        "id": "Pg-hw2E--qw5",
        "outputId": "2362ecd5-8827-445c-94e2-860f2bef54dc"
      },
      "outputs": [
        {
          "name": "stdout",
          "output_type": "stream",
          "text": [
            "313/313 [==============================] - 14s 40ms/step\n"
          ]
        },
        {
          "data": {
            "image/png": "[encoded data removed]",
            "text/plain": [
              "<Figure size 1000x600 with 1 Axes>"
            ]
          },
          "metadata": {},
          "output_type": "display_data"
        }
      ],
      "source": [
        "\n",
        "# Convert predictions to class labels\n",
        "predicted_output = model.predict([x_test_ravel,pos_feed_test])\n",
        "predicted_labels = np.argmax(predicted_output, axis=1)\n",
        "\n",
        "# Find indices of incorrectly classified samples\n",
        "incorrect_indices = np.where(predicted_labels != y_test)[0]\n",
        "\n",
        "# Count the frequency of both incorrectly classified and incorrectly predicted numbers\n",
        "incorrect_numbers_count = {}\n",
        "for idx in incorrect_indices:\n",
        "    true_label = y_test[idx] # Extract scalar value from array\n",
        "    predicted_label = predicted_labels[idx]\n",
        "\n",
        "    # Count incorrectly classified numbers\n",
        "    if true_label not in incorrect_numbers_count:\n",
        "        incorrect_numbers_count[true_label] = {'classified': 1, 'predicted': 0}\n",
        "    else:\n",
        "        incorrect_numbers_count[true_label]['classified'] += 1\n",
        "\n",
        "    # Count incorrectly predicted numbers\n",
        "    if predicted_label not in incorrect_numbers_count:\n",
        "        incorrect_numbers_count[predicted_label] = {'classified': 0, 'predicted': 1}\n",
        "    else:\n",
        "        incorrect_numbers_count[predicted_label]['predicted'] += 1\n",
        "\n",
        "# Plot the graph\n",
        "plt.figure(figsize=(10, 6))\n",
        "\n",
        "labels = list(incorrect_numbers_count.keys())\n",
        "classified_counts = [incorrect_numbers_count[label]['classified'] for label in labels]\n",
        "predicted_counts = [incorrect_numbers_count[label]['predicted'] for label in labels]\n",
        "\n",
        "bar_width = 0.35\n",
        "index = np.arange(len(labels))\n",
        "\n",
        "plt.bar(index, classified_counts, width=bar_width, label='Incorrectly Classified')\n",
        "plt.bar(index + bar_width, predicted_counts, width=bar_width, label='Incorrectly Predicted')\n",
        "\n",
        "plt.xlabel('Label')\n",
        "plt.ylabel('Frequency')\n",
        "plt.title('Frequency of Incorrectly Classified and Predicted Numbers')\n",
        "plt.xticks(index + bar_width / 2, labels)\n",
        "plt.legend()\n",
        "plt.tight_layout()\n",
        "plt.show()"
      ],
      "id": "Pg-hw2E--qw5"
    },
    {
      "cell_type": "code",
      "execution_count": null,
      "metadata": {
        "colab": {
          "base_uri": "https://localhost:8080/",
          "height": 1000
        },
        "id": "pY0zHuiZA61G",
        "outputId": "cf97477e-4498-472c-f99f-bf1a4fe4cf25"
      },
      "outputs": [
        {
          "name": "stdout",
          "output_type": "stream",
          "text": [
            "313/313 [==============================] - 13s 42ms/step\n"
          ]
        },
        {
          "data": {
            "image/png": "[encoded data removed]",
            "text/plain": [
              "<Figure size 1000x1200 with 2 Axes>"
            ]
          },
          "metadata": {},
          "output_type": "display_data"
        }
      ],
      "source": [
        "import matplotlib.pyplot as plt\n",
        "import numpy as np\n",
        "\n",
        "# Convert predictions to class labels\n",
        "predicted_output = model.predict([x_test_ravel,pos_feed_test])\n",
        "predicted_labels = np.argmax(predicted_output, axis=1)\n",
        "\n",
        "# Find indices of incorrectly classified samples\n",
        "incorrect_indices = np.where(predicted_labels != y_test)[0]\n",
        "\n",
        "# Count the frequency of both incorrectly classified and incorrectly predicted numbers\n",
        "incorrect_numbers_count = {}\n",
        "for idx in incorrect_indices:\n",
        "    true_label = y_test[idx] # Extract scalar value from array\n",
        "    predicted_label = predicted_labels[idx]\n",
        "\n",
        "    # Count incorrectly classified numbers\n",
        "    if true_label not in incorrect_numbers_count:\n",
        "        incorrect_numbers_count[true_label] = {'classified': 1, 'predicted': 0}\n",
        "    else:\n",
        "        incorrect_numbers_count[true_label]['classified'] += 1\n",
        "\n",
        "    # Count incorrectly predicted numbers\n",
        "    if predicted_label not in incorrect_numbers_count:\n",
        "        incorrect_numbers_count[predicted_label] = {'classified': 0, 'predicted': 1}\n",
        "    else:\n",
        "        incorrect_numbers_count[predicted_label]['predicted'] += 1\n",
        "\n",
        "# Sort labels\n",
        "labels = sorted(incorrect_numbers_count.keys())\n",
        "\n",
        "# Extract counts\n",
        "classified_counts = [incorrect_numbers_count[label]['classified'] for label in labels]\n",
        "predicted_counts = [incorrect_numbers_count[label]['predicted'] for label in labels]\n",
        "\n",
        "# Plot the graphs\n",
        "fig, axs = plt.subplots(2, 1, figsize=(10, 12))\n",
        "\n",
        "# Plot for incorrectly classified numbers\n",
        "axs[0].bar(labels, classified_counts, color='lightblue')\n",
        "axs[0].set_title('Frequency of Incorrectly Classified Numbers')\n",
        "axs[0].set_xlabel('Label')\n",
        "axs[0].set_ylabel('Frequency')\n",
        "axs[0].set_xticks(range(10))\n",
        "\n",
        "# Plot for incorrectly predicted numbers\n",
        "axs[1].bar(labels, predicted_counts, color='lightblue')\n",
        "axs[1].set_title('Frequency of Incorrectly Predicted Numbers')\n",
        "axs[1].set_xlabel('Label')\n",
        "axs[1].set_ylabel('Frequency')\n",
        "axs[1].set_xticks(range(10))\n",
        "\n",
        "plt.tight_layout()\n",
        "plt.show()\n"
      ],
      "id": "pY0zHuiZA61G"
    },
    {
      "cell_type": "code",
      "execution_count": null,
      "metadata": {
        "colab": {
          "base_uri": "https://localhost:8080/"
        },
        "id": "FuZPbB8hFd_d",
        "outputId": "3d8a3c13-e646-416a-f0e4-324c6aa8a728"
      },
      "outputs": [
        {
          "data": {
            "text/plain": [
              "{9: {'classified': 16, 'predicted': 8},\n",
              " 8: {'classified': 11, 'predicted': 8},\n",
              " 4: {'classified': 11, 'predicted': 12},\n",
              " 6: {'classified': 13, 'predicted': 15},\n",
              " 2: {'classified': 8, 'predicted': 9},\n",
              " 3: {'classified': 11, 'predicted': 8},\n",
              " 5: {'classified': 13, 'predicted': 9},\n",
              " 1: {'classified': 3, 'predicted': 13},\n",
              " 7: {'classified': 9, 'predicted': 10},\n",
              " 0: {'classified': 4, 'predicted': 7}}"
            ]
          },
          "execution_count": 35,
          "metadata": {},
          "output_type": "execute_result"
        }
      ],
      "source": [
        "incorrect_numbers_count"
      ],
      "id": "FuZPbB8hFd_d"
    },
    {
      "cell_type": "code",
      "execution_count": null,
      "metadata": {
        "colab": {
          "base_uri": "https://localhost:8080/"
        },
        "id": "g3eZkpymTi_t",
        "outputId": "d7f47357-9d0d-47ba-995b-edb4fc5d36bf"
      },
      "outputs": [
        {
          "name": "stdout",
          "output_type": "stream",
          "text": [
            "Total incorrectly predicted samples: 99\n",
            "Total incorrectly classified samples: 99\n"
          ]
        }
      ],
      "source": [
        "# Calculate total counts of incorrectly predicted and classified samples\n",
        "total_incorrectly_predicted = sum(counts['predicted'] for counts in incorrect_numbers_count.values())\n",
        "total_incorrectly_classified = sum(counts['classified'] for counts in incorrect_numbers_count.values())\n",
        "\n",
        "# Display the results\n",
        "print(\"Total incorrectly predicted samples:\", total_incorrectly_predicted)\n",
        "print(\"Total incorrectly classified samples:\", total_incorrectly_classified)"
      ],
      "id": "g3eZkpymTi_t"
    },
    {
      "cell_type": "code",
      "execution_count": null,
      "metadata": {
        "colab": {
          "base_uri": "https://localhost:8080/",
          "height": 1000
        },
        "id": "4_MhQR53GYj5",
        "outputId": "0d54b534-5a27-4aa0-9b80-670d9b84ac35"
      },
      "outputs": [
        {
          "data": {
            "image/png": "[encoded data removed]",
            "text/plain": [
              "<Figure size 1000x1500 with 18 Axes>"
            ]
          },
          "metadata": {},
          "output_type": "display_data"
        }
      ],
      "source": [
        "# Plot some examples of incorrectly predicted images\n",
        "plt.figure(figsize=(10, 15))\n",
        "\n",
        "for label in range(1, 10):  # Iterate over labels 1 to 9\n",
        "    # Find indices of incorrectly predicted samples for the current label\n",
        "    incorrect_indices = np.where((y_test != label) & (predicted_labels == label))[0][:2]\n",
        "\n",
        "    # Plot the selected examples\n",
        "    for i, idx in enumerate(incorrect_indices):\n",
        "        plt.subplot(9, 2, (label - 1) * 2 + i + 1)\n",
        "        plt.imshow(x_test[idx].reshape(28, 28), cmap='gray')\n",
        "        plt.title(f'True: {y_test[idx]}, Predicted: {predicted_labels[idx]}')\n",
        "        plt.axis('off')\n",
        "\n",
        "plt.tight_layout()\n",
        "plt.show()\n"
      ],
      "id": "4_MhQR53GYj5"
    }
  ],
  "metadata": {
    "accelerator": "GPU",
    "colab": {
      "gpuType": "T4",
      "provenance": [],
      "include_colab_link": true
    },
    "kernelspec": {
      "display_name": "Python 3",
      "name": "python3"
    },
    "language_info": {
      "codemirror_mode": {
        "name": "ipython",
        "version": 3
      },
      "file_extension": ".py",
      "mimetype": "text/x-python",
      "name": "python",
      "nbconvert_exporter": "python",
      "pygments_lexer": "ipython3",
      "version": "3.7.13"
    }
  },
  "nbformat": 4,
  "nbformat_minor": 5
}